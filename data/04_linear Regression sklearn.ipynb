{
 "cells": [
  {
   "attachments": {},
   "cell_type": "markdown",
   "metadata": {},
   "source": [
    "# Linear Regression with sklearn"
   ]
  },
  {
   "cell_type": "code",
   "execution_count": 1,
   "metadata": {},
   "outputs": [
    {
     "name": "stdout",
     "output_type": "stream",
     "text": [
      "/Users/salomekoller/Documents/ovulation_application/ki-anwendung/data\n"
     ]
    }
   ],
   "source": [
    "# Libraries\n",
    "import os\n",
    "import numpy as np\n",
    "import seaborn as sns\n",
    "import pandas as pd\n",
    "import statsmodels.api as sm\n",
    "import matplotlib.pyplot as plt\n",
    "from sklearn.linear_model import LinearRegression\n",
    "from sklearn.model_selection import train_test_split\n",
    "from sklearn.metrics import mean_squared_error\n",
    "\n",
    "# seaborn graphics settings\n",
    "sns.set(color_codes=True)\n",
    "\n",
    "# Ignore warnings\n",
    "import warnings\n",
    "warnings.filterwarnings('ignore')\n",
    "\n",
    "# Show current working directory\n",
    "print(os.getcwd())"
   ]
  },
  {
   "attachments": {},
   "cell_type": "markdown",
   "metadata": {},
   "source": [
    "Import the apartment data"
   ]
  },
  {
   "cell_type": "code",
   "execution_count": 2,
   "metadata": {},
   "outputs": [
    {
     "name": "stdout",
     "output_type": "stream",
     "text": [
      "(1665, 16)\n"
     ]
    },
    {
     "data": {
      "text/html": [
       "<div>\n",
       "<style scoped>\n",
       "    .dataframe tbody tr th:only-of-type {\n",
       "        vertical-align: middle;\n",
       "    }\n",
       "\n",
       "    .dataframe tbody tr th {\n",
       "        vertical-align: top;\n",
       "    }\n",
       "\n",
       "    .dataframe thead th {\n",
       "        text-align: right;\n",
       "    }\n",
       "</style>\n",
       "<table border=\"1\" class=\"dataframe\">\n",
       "  <thead>\n",
       "    <tr style=\"text-align: right;\">\n",
       "      <th></th>\n",
       "      <th>ClientID</th>\n",
       "      <th>CycleNumber</th>\n",
       "      <th>LengthofCycle</th>\n",
       "      <th>lengthCycle_cat</th>\n",
       "      <th>CycleWithPeakorNot</th>\n",
       "      <th>EstimatedDayofOvulation</th>\n",
       "      <th>LengthofLutealPhase</th>\n",
       "      <th>FirstDayofHigh</th>\n",
       "      <th>TotalNumberofHighDays</th>\n",
       "      <th>TotalDaysofFertility</th>\n",
       "      <th>LengthofMenses</th>\n",
       "      <th>lengthMenses_cat</th>\n",
       "      <th>Age</th>\n",
       "      <th>Height</th>\n",
       "      <th>Weight</th>\n",
       "      <th>BMI</th>\n",
       "    </tr>\n",
       "  </thead>\n",
       "  <tbody>\n",
       "    <tr>\n",
       "      <th>0</th>\n",
       "      <td>nfp8122</td>\n",
       "      <td>1</td>\n",
       "      <td>29</td>\n",
       "      <td>28 - 32</td>\n",
       "      <td>1.0</td>\n",
       "      <td>17</td>\n",
       "      <td>12</td>\n",
       "      <td>12</td>\n",
       "      <td>5</td>\n",
       "      <td>9</td>\n",
       "      <td>5</td>\n",
       "      <td>Normal</td>\n",
       "      <td>36.0</td>\n",
       "      <td>160.02</td>\n",
       "      <td>54.43</td>\n",
       "      <td>21.25</td>\n",
       "    </tr>\n",
       "    <tr>\n",
       "      <th>1</th>\n",
       "      <td>nfp8122</td>\n",
       "      <td>2</td>\n",
       "      <td>27</td>\n",
       "      <td>28 - 32</td>\n",
       "      <td>1.0</td>\n",
       "      <td>15</td>\n",
       "      <td>12</td>\n",
       "      <td>13</td>\n",
       "      <td>2</td>\n",
       "      <td>6</td>\n",
       "      <td>5</td>\n",
       "      <td>Normal</td>\n",
       "      <td>36.0</td>\n",
       "      <td>160.02</td>\n",
       "      <td>54.43</td>\n",
       "      <td>21.25</td>\n",
       "    </tr>\n",
       "    <tr>\n",
       "      <th>2</th>\n",
       "      <td>nfp8122</td>\n",
       "      <td>3</td>\n",
       "      <td>29</td>\n",
       "      <td>28 - 32</td>\n",
       "      <td>1.0</td>\n",
       "      <td>15</td>\n",
       "      <td>14</td>\n",
       "      <td>11</td>\n",
       "      <td>1</td>\n",
       "      <td>5</td>\n",
       "      <td>5</td>\n",
       "      <td>Normal</td>\n",
       "      <td>36.0</td>\n",
       "      <td>160.02</td>\n",
       "      <td>54.43</td>\n",
       "      <td>21.25</td>\n",
       "    </tr>\n",
       "    <tr>\n",
       "      <th>3</th>\n",
       "      <td>nfp8122</td>\n",
       "      <td>4</td>\n",
       "      <td>27</td>\n",
       "      <td>28 - 32</td>\n",
       "      <td>1.0</td>\n",
       "      <td>15</td>\n",
       "      <td>12</td>\n",
       "      <td>13</td>\n",
       "      <td>2</td>\n",
       "      <td>6</td>\n",
       "      <td>5</td>\n",
       "      <td>Normal</td>\n",
       "      <td>36.0</td>\n",
       "      <td>160.02</td>\n",
       "      <td>54.43</td>\n",
       "      <td>21.25</td>\n",
       "    </tr>\n",
       "    <tr>\n",
       "      <th>4</th>\n",
       "      <td>nfp8122</td>\n",
       "      <td>5</td>\n",
       "      <td>28</td>\n",
       "      <td>28 - 32</td>\n",
       "      <td>1.0</td>\n",
       "      <td>16</td>\n",
       "      <td>12</td>\n",
       "      <td>12</td>\n",
       "      <td>4</td>\n",
       "      <td>8</td>\n",
       "      <td>5</td>\n",
       "      <td>Normal</td>\n",
       "      <td>36.0</td>\n",
       "      <td>160.02</td>\n",
       "      <td>54.43</td>\n",
       "      <td>21.25</td>\n",
       "    </tr>\n",
       "  </tbody>\n",
       "</table>\n",
       "</div>"
      ],
      "text/plain": [
       "  ClientID  CycleNumber  LengthofCycle lengthCycle_cat  CycleWithPeakorNot  \\\n",
       "0  nfp8122            1             29         28 - 32                 1.0   \n",
       "1  nfp8122            2             27         28 - 32                 1.0   \n",
       "2  nfp8122            3             29         28 - 32                 1.0   \n",
       "3  nfp8122            4             27         28 - 32                 1.0   \n",
       "4  nfp8122            5             28         28 - 32                 1.0   \n",
       "\n",
       "   EstimatedDayofOvulation  LengthofLutealPhase  FirstDayofHigh  \\\n",
       "0                       17                   12              12   \n",
       "1                       15                   12              13   \n",
       "2                       15                   14              11   \n",
       "3                       15                   12              13   \n",
       "4                       16                   12              12   \n",
       "\n",
       "   TotalNumberofHighDays  TotalDaysofFertility  LengthofMenses  \\\n",
       "0                      5                     9               5   \n",
       "1                      2                     6               5   \n",
       "2                      1                     5               5   \n",
       "3                      2                     6               5   \n",
       "4                      4                     8               5   \n",
       "\n",
       "  lengthMenses_cat   Age  Height  Weight    BMI  \n",
       "0           Normal  36.0  160.02   54.43  21.25  \n",
       "1           Normal  36.0  160.02   54.43  21.25  \n",
       "2           Normal  36.0  160.02   54.43  21.25  \n",
       "3           Normal  36.0  160.02   54.43  21.25  \n",
       "4           Normal  36.0  160.02   54.43  21.25  "
      ]
     },
     "execution_count": 2,
     "metadata": {},
     "output_type": "execute_result"
    }
   ],
   "source": [
    "dfmens1 = pd.read_csv('../backend/menstrual_cycle_data_enriched_per_CYCLE.csv', sep=',', encoding='utf-8')\n",
    "\n",
    "print(dfmens1.shape)\n",
    "dfmens1.head(5)"
   ]
  },
  {
   "attachments": {},
   "cell_type": "markdown",
   "metadata": {},
   "source": [
    "Train 80% and Test 20% Samples"
   ]
  },
  {
   "cell_type": "code",
   "execution_count": 3,
   "metadata": {},
   "outputs": [
    {
     "name": "stdout",
     "output_type": "stream",
     "text": [
      "X_train:\n",
      "      LengthofCycle\n",
      "422              25\n",
      "1106             30\n",
      "266              31\n",
      "148              30\n",
      "433              26 \n",
      "\n",
      "y_train:\n",
      "422     11\n",
      "1106    18\n",
      "266      9\n",
      "148     10\n",
      "433      9\n",
      "Name: FirstDayofHigh, dtype: int64\n"
     ]
    }
   ],
   "source": [
    "# Create train and test samples\n",
    "X_train, X_test, y_train, y_test = train_test_split(dfmens1[['LengthofCycle']], \n",
    "                                                    dfmens1['FirstDayofHigh'], \n",
    "                                                    test_size=0.20, \n",
    "                                                    random_state=42)\n",
    "\n",
    "# Show X_train\n",
    "print('X_train:')\n",
    "print(X_train.head(), '\\n')\n",
    "\n",
    "# Show y_train\n",
    "print('y_train:')\n",
    "print(y_train.head())"
   ]
  },
  {
   "attachments": {},
   "cell_type": "markdown",
   "metadata": {},
   "source": [
    "Fit and predict Results"
   ]
  },
  {
   "cell_type": "code",
   "execution_count": 4,
   "metadata": {},
   "outputs": [
    {
     "name": "stdout",
     "output_type": "stream",
     "text": [
      "train mean_squared_error 7.013785001504342\n",
      "train root_mean_squared_error 2.6483551501836646\n",
      "\n",
      "test mean_squared_error  8.242167611063639\n",
      "test root_mean_squared_error  2.8709175556019786\n"
     ]
    }
   ],
   "source": [
    "# use linear regression to fit (train) and then predict the results.\n",
    "# This time use the train/test values from the cell above, which has multiple variables as X\n",
    "# The function mean_squared_error(y_test, y_predicted) can be used to calculate the mean squared error\n",
    "# calc the residuals and save the values in the variable \"y_residuals\"\n",
    "lin_reg = LinearRegression()\n",
    "lin_reg.fit(X_train, y_train)\n",
    "\n",
    "y_train_predict = lin_reg.predict(X_train)\n",
    "\n",
    "y_predict = lin_reg.predict(X_test)\n",
    "\n",
    "y_residuals = y_predict - y_test\n",
    "\n",
    "print('train mean_squared_error {}'.format(mean_squared_error(y_train, y_train_predict)))\n",
    "print('train root_mean_squared_error {}'.format(np.sqrt(mean_squared_error(y_train, y_train_predict))))\n",
    "\n",
    "print('')\n",
    "\n",
    "print(\"test mean_squared_error \", mean_squared_error(y_test, y_predict))\n",
    "print(\"test root_mean_squared_error \", np.sqrt(mean_squared_error(y_test, y_predict)))"
   ]
  },
  {
   "attachments": {},
   "cell_type": "markdown",
   "metadata": {},
   "source": [
    "Plot histogram of residuals"
   ]
  },
  {
   "cell_type": "code",
   "execution_count": 5,
   "metadata": {},
   "outputs": [
    {
     "data": {
      "image/png": "[encoded data removed]",
      "text/plain": [
       "<Figure size 800x400 with 1 Axes>"
      ]
     },
     "metadata": {},
     "output_type": "display_data"
    }
   ],
   "source": [
    "# Plot histogram of residuals\n",
    "fig = plt.figure( figsize=(8,4))\n",
    "n, bins, patches = plt.hist(x=y_residuals, \n",
    "                            bins=20, \n",
    "                            color='violet',\n",
    "                            alpha=0.5\n",
    "                   )\n",
    "\n",
    "# Set labels\n",
    "plt.xlabel('residuals', fontsize=10, labelpad=10)\n",
    "plt.ylabel('frequency', fontsize=10, labelpad=10)\n",
    "plt.title('Histogram of model residuals', fontsize=12, pad=10)\n",
    "\n",
    "plt.show()"
   ]
  },
  {
   "cell_type": "code",
   "execution_count": 6,
   "metadata": {},
   "outputs": [
    {
     "data": {
      "image/png": "[encoded data removed]",
      "text/plain": [
       "<Figure size 600x400 with 1 Axes>"
      ]
     },
     "metadata": {},
     "output_type": "display_data"
    }
   ],
   "source": [
    "# Scatterplot with regression line\n",
    "plt.figure(figsize=(6,4))\n",
    "plt.scatter(X_train, y_train, s=10, color='violet')\n",
    "plt.plot(X_train, y_train_predict, color=\"lightskyblue\", linewidth=3)\n",
    "plt.title('Simple Linear Regression')\n",
    "plt.xlabel('Length of Cycle')\n",
    "plt.ylabel('First Day of High = Ovulation')\n",
    "\n",
    "plt.show()"
   ]
  },
  {
   "attachments": {},
   "cell_type": "markdown",
   "metadata": {},
   "source": [
    "Train 80% Test 20% with multiple values"
   ]
  },
  {
   "cell_type": "code",
   "execution_count": 7,
   "metadata": {},
   "outputs": [
    {
     "name": "stdout",
     "output_type": "stream",
     "text": [
      "X_train:\n",
      "      LengthofCycle  LengthofLutealPhase  LengthofMenses   Age  Weight\n",
      "422              25                   13               5  26.0   61.23\n",
      "1106             30                   11               5  25.0   55.34\n",
      "266              31                   16               6  32.0   54.43\n",
      "148              30                   15               5  24.0   58.97\n",
      "433              26                   12               5  26.0   61.23 \n",
      "\n",
      "y_train:\n",
      "422     11\n",
      "1106    18\n",
      "266      9\n",
      "148     10\n",
      "433      9\n",
      "Name: FirstDayofHigh, dtype: int64\n"
     ]
    }
   ],
   "source": [
    "# Create train and test samples (we name it X2_ and y_2 because we already used X_ and y_ above)\n",
    "X_train, X_test, y_train, y_test = train_test_split(dfmens1[['LengthofCycle',\n",
    "                                                        'LengthofLutealPhase', \n",
    "                                                        'LengthofMenses',\n",
    "                                                        'Age',\n",
    "                                                        'Weight']], \n",
    "                                                        dfmens1['FirstDayofHigh'], \n",
    "                                                        test_size=0.20, \n",
    "                                                        random_state=42)\n",
    "\n",
    "# Show X_train\n",
    "print('X_train:')\n",
    "print(X_train.head(), '\\n')\n",
    "\n",
    "# Show y_train\n",
    "print('y_train:')\n",
    "print(y_train.head())"
   ]
  },
  {
   "cell_type": "code",
   "execution_count": 8,
   "metadata": {},
   "outputs": [
    {
     "name": "stdout",
     "output_type": "stream",
     "text": [
      "train mean_squared_error 5.787944056614025\n",
      "train root_mean_squared_error 2.4058146347160716\n",
      "\n",
      "test mean_squared_error  7.00524809327994\n",
      "test root_mean_squared_error  2.6467429216453833\n"
     ]
    }
   ],
   "source": [
    "# use linear regression to fit (train) and then predict the results.\n",
    "# This time use the train/test values from the cell above, which has multiple variables as X\n",
    "# The function mean_squared_error(y_test, y_predicted) can be used to calculate the mean squared error\n",
    "# calc the residuals and save the values in the variable \"y_residuals\"\n",
    "lin_reg = LinearRegression()\n",
    "lin_reg.fit(X_train, y_train)\n",
    "\n",
    "y_train_predict = lin_reg.predict(X_train)\n",
    "\n",
    "y_predict = lin_reg.predict(X_test)\n",
    "\n",
    "y_residuals = y_predict - y_test\n",
    "\n",
    "# Testdaten:\n",
    "print('train mean_squared_error {}'.format(mean_squared_error(y_train, y_train_predict)))\n",
    "print('train root_mean_squared_error {}'.format(np.sqrt(mean_squared_error(y_train, y_train_predict))))\n",
    "\n",
    "print('')\n",
    "\n",
    "#Trainingdaten:\n",
    "print(\"test mean_squared_error \", mean_squared_error(y_test, y_predict))\n",
    "print(\"test root_mean_squared_error \", np.sqrt(mean_squared_error(y_test, y_predict)))"
   ]
  },
  {
   "attachments": {},
   "cell_type": "markdown",
   "metadata": {},
   "source": [
    "Interpretation: \n",
    "- Vergleich der Test- und Trainingsdaten -> Gibt es einen grossen Unterschied? Nein! Das Model wurde also gut gefitted.\n",
    "- Der Root Mean Squared Error ist nahe zu 0. Das Modell konnte also gute Predictions machen."
   ]
  },
  {
   "attachments": {},
   "cell_type": "markdown",
   "metadata": {},
   "source": [
    "Plot historgram of residuals"
   ]
  },
  {
   "cell_type": "code",
   "execution_count": 9,
   "metadata": {},
   "outputs": [
    {
     "data": {
      "image/png": "[encoded data removed]",
      "text/plain": [
       "<Figure size 800x400 with 1 Axes>"
      ]
     },
     "metadata": {},
     "output_type": "display_data"
    }
   ],
   "source": [
    "# Plot histogram of residuals\n",
    "fig = plt.figure( figsize=(8,4))\n",
    "n, bins, patches = plt.hist(x=y_residuals, \n",
    "                            bins=20, \n",
    "                            color='violet',\n",
    "                            alpha=0.5\n",
    "                   )\n",
    "\n",
    "# Set labels\n",
    "plt.xlabel('residuals', fontsize=10, labelpad=10)\n",
    "plt.ylabel('frequency', fontsize=10, labelpad=10)\n",
    "plt.title('Histogram of model residuals', fontsize=12, pad=10)\n",
    "\n",
    "plt.show()"
   ]
  },
  {
   "attachments": {},
   "cell_type": "markdown",
   "metadata": {},
   "source": [
    "Export"
   ]
  },
  {
   "cell_type": "code",
   "execution_count": 10,
   "metadata": {},
   "outputs": [],
   "source": [
    "import pickle\n",
    "\n",
    "# save model to file\n",
    "model_filename = \"linear_regression.pkl\"\n",
    "with open(model_filename, mode=\"bw\") as f:\n",
    "    pickle.dump(lin_reg, file=f)"
   ]
  }
 ],
 "metadata": {
  "kernelspec": {
   "display_name": "Python 3",
   "language": "python",
   "name": "python3"
  },
  "language_info": {
   "codemirror_mode": {
    "name": "ipython",
    "version": 3
   },
   "file_extension": ".py",
   "mimetype": "text/x-python",
   "name": "python",
   "nbconvert_exporter": "python",
   "pygments_lexer": "ipython3",
   "version": "3.11.3"
  },
  "orig_nbformat": 4
 },
 "nbformat": 4,
 "nbformat_minor": 2
}
